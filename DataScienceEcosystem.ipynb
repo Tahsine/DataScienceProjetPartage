{
 "cells": [
  {
   "cell_type": "markdown",
   "id": "730411bb-ad72-4961-be6d-99ff9b4da6ba",
   "metadata": {},
   "source": [
    "# Data Science Tool and Ecosystem"
   ]
  },
  {
   "cell_type": "markdown",
   "id": "08994f9c-ee5b-4012-8b6b-da6ca8c3a132",
   "metadata": {},
   "source": [
    "In this notebook, Data Science Tool and Ecosystem are summarized."
   ]
  },
  {
   "cell_type": "markdown",
   "id": "78209f08-26f6-40e5-b962-c74b17791e53",
   "metadata": {},
   "source": [
    "**Objectives:**\n",
    "- List popular languages for Data Science\n",
    "- List some libraries used by Data Scientist\n",
    "- Display a table with three development environment open source tool used in data science\n",
    "- Display a simple arithmetic expression\n",
    "- Convert minutes to hours"
   ]
  },
  {
   "cell_type": "markdown",
   "id": "f52116a0-756b-4e61-a11a-3d5986597473",
   "metadata": {},
   "source": [
    "Some of the popular language that Data Scientists use are:\n",
    "\n",
    "1. Python\n",
    "2. R\n",
    "3. Julia"
   ]
  },
  {
   "cell_type": "markdown",
   "id": "8144dead-1237-43ab-a886-afa7f3848e5d",
   "metadata": {},
   "source": [
    "Some of the commonly use libraries used by Data Scientists include:\n",
    "\n",
    "1. Pandas\n",
    "2. Numpy\n",
    "3. Seaborn\n",
    "4. Scikit-learn\n",
    "5. TensorFlow"
   ]
  },
  {
   "cell_type": "markdown",
   "id": "e8c590db-f6d0-4c91-aa33-c32d4c4f2d1f",
   "metadata": {},
   "source": [
    "|Data Science Tools|\n",
    "|------------------|\n",
    "|JupyterLab|\n",
    "|GitHub|\n",
    "|Anaconda|"
   ]
  },
  {
   "cell_type": "markdown",
   "id": "0ecf1432-39f1-482d-a8f5-d04d02ad6bd2",
   "metadata": {},
   "source": [
    "### Below are few examples of evaluating arithmetic expressions in Python"
   ]
  },
  {
   "cell_type": "code",
   "execution_count": 3,
   "id": "5940a2ad-162f-4567-9f12-ebe3c3dddc0b",
   "metadata": {
    "tags": []
   },
   "outputs": [
    {
     "data": {
      "text/plain": [
       "17"
      ]
     },
     "execution_count": 3,
     "metadata": {},
     "output_type": "execute_result"
    }
   ],
   "source": [
    "# This a simple arithmetic expression to mutiply then add \n",
    "#interger\n",
    "(3*4)+5"
   ]
  },
  {
   "cell_type": "code",
   "execution_count": 4,
   "id": "646a966c-89cd-45ca-a583-b8d9bb30c1b1",
   "metadata": {
    "tags": []
   },
   "outputs": [
    {
     "data": {
      "text/plain": [
       "3.3333333333333335"
      ]
     },
     "execution_count": 4,
     "metadata": {},
     "output_type": "execute_result"
    }
   ],
   "source": [
    "# This will convert 200 minutes to hours by diving by 60\n",
    "200/60"
   ]
  },
  {
   "cell_type": "markdown",
   "id": "1c4a90d3-41ba-4247-9aa0-43782342e5d9",
   "metadata": {},
   "source": [
    "## Author\n",
    "Tahsine K. SALAMI"
   ]
  },
  {
   "cell_type": "code",
   "execution_count": null,
   "id": "fc4829f8-b4cd-4413-8e69-768ae261382c",
   "metadata": {},
   "outputs": [],
   "source": []
  }
 ],
 "metadata": {
  "kernelspec": {
   "display_name": "Python",
   "language": "python",
   "name": "conda-env-python-py"
  },
  "language_info": {
   "codemirror_mode": {
    "name": "ipython",
    "version": 3
   },
   "file_extension": ".py",
   "mimetype": "text/x-python",
   "name": "python",
   "nbconvert_exporter": "python",
   "pygments_lexer": "ipython3",
   "version": "3.7.12"
  }
 },
 "nbformat": 4,
 "nbformat_minor": 5
}
